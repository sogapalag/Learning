{
 "cells": [
  {
   "cell_type": "markdown",
   "metadata": {},
   "source": [
    "State-based model\n",
    "  - Search Proplem/ MDP/ Adversarial games\n",
    "  \n",
    "Variable-based model\n",
    "  - Constraint satisfaction problems, e.g. 数独；/ Bayesian networks"
   ]
  },
  {
   "cell_type": "markdown",
   "metadata": {},
   "source": [
    "MDP, 即MP with T, reward, policy, discount, utility; [V,Q](http://web.stanford.edu/class/cs221/lectures/mdp1.pdf#page=42)； [policy evaluation: iter至一定error](http://web.stanford.edu/class/cs221/lectures/mdp1.pdf#page=52)；[Vopt](http://web.stanford.edu/class/cs221/lectures/mdp1.pdf#page=66)\n",
    "\n",
    "\n",
    "加强学习，unknown T, reward\n",
    "\n",
    "  - [Model-free Monte Carlo](http://web.stanford.edu/class/cs221/lectures/mdp2.pdf)：估计$Q_\\pi$\n",
    "    - $Q_\\pi$ 为u平均；等价形式更新，如同梯度下降；advanced $\\eta$ decay setting\n",
    "    - [SARSA](http://web.stanford.edu/class/cs221/lectures/mdp2.pdf#page=40)：对utility补充些许估计\n",
    "    \n",
    "  - [Q-learning](http://web.stanford.edu/class/cs221/lectures/mdp2.pdf#page=46)：估计$Q_{opt}$\n",
    "    - 与SARSA差异在于target中是$V_opt$为max形式\n",
    "    - Exploration/exploitation tradeoff\n",
    "    - epsilon-greedy：本质即以$\\epsilon$探索(random action)，$1-\\epsilon$开发(argmax)，自然地，$\\epsilon_t \\downarrow$；（Problem, real-world millions of states）\n",
    "    \n",
    "\n",
    "Models:\n",
    "  - LDA：如名描述，即由D分布隐变量生成词\n",
    "  \n",
    "  - BayesNet: DAG，想象timeline上许多因->...许多果->...的图结构\n",
    "  \n",
    "  - Markov Random Fields（MRFs）：无向图，P有cliques' factor形式，\n",
    "  \n",
    "  - CRF：上述形式P为条件形式y|x"
   ]
  },
  {
   "cell_type": "markdown",
   "metadata": {},
   "source": [
    "web\n",
    "\n",
    "[openai gym](https://gym.openai.com/)\n",
    "\n",
    "[cs228_notes, prob.graph.model](https://ermongroup.github.io/cs228-notes/)"
   ]
  },
  {
   "cell_type": "code",
   "execution_count": null,
   "metadata": {},
   "outputs": [],
   "source": []
  }
 ],
 "metadata": {
  "kernelspec": {
   "display_name": "Python 3",
   "language": "python",
   "name": "python3"
  },
  "language_info": {
   "codemirror_mode": {
    "name": "ipython",
    "version": 3
   },
   "file_extension": ".py",
   "mimetype": "text/x-python",
   "name": "python",
   "nbconvert_exporter": "python",
   "pygments_lexer": "ipython3",
   "version": "3.7.2"
  }
 },
 "nbformat": 4,
 "nbformat_minor": 2
}
