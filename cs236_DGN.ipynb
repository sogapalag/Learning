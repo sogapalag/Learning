{
 "cells": [
  {
   "cell_type": "markdown",
   "metadata": {},
   "source": [
    "[cs236_lecture](https://deepgenerativemodels.github.io/)\n",
    "\n",
    "[cs236_some_notes](https://deepgenerativemodels.github.io/notes/index.html)"
   ]
  },
  {
   "cell_type": "markdown",
   "metadata": {},
   "source": [
    "KL-divergence(也称相对熵), $E_p\\log p/q$；[Detour这几页很详细解释](https://deepgenerativemodels.github.io/assets/slides/cs236_lecture4.pdf#page=9)\n",
    "  - 注意$q_\\theta(x)$为likelihood，显然min KL <=> max Elog likelihood\n",
    "\n",
    "交叉熵，$-E_p\\log q$\n",
    "\n",
    "$H(p,q) = H(p) + D(p\\|q)$\n",
    "\n",
    "\n",
    "$q(z)$ guide, posterior $p(z|x;\\theta)$, 由其KL$\\geq 0$ 可得[ELBO](https://deepgenerativemodels.github.io/assets/slides/cs236_lecture5.pdf#page=23)，(直觉解释，guide受evidence所限)，用途：max L达到max log p的目的\n",
    "  - $\\log p_\\theta(x) - \\text{ELBO} = \\text{KL}(q_\\phi(z) \\| p_\\theta(z|x))$\n",
    "\n",
    "[EM在F平面的一种解释](https://deepgenerativemodels.github.io/assets/slides/cs236_lecture5.pdf#page=24)，即guide $q_{\\phi}$与原参$\\theta$交替代入max F的过程，使得marginal likelihood $p(x;\\theta)$ non-decreasing.\n",
    "  - 通常posterior $p(z|x;\\theta)$难解，故有Variational EM，即在$(\\phi,\\theta)$ space上优化F\n",
    "  \n",
    "SVI, [Reparameterization Trick](https://deepgenerativemodels.github.io/assets/slides/cs236_lecture6.pdf#page=15)\n",
    "\n",
    "-------------------\n",
    "\n",
    "[Autoencoder perspective](https://deepgenerativemodels.github.io/assets/slides/cs236_lecture6.pdf#page=20)\n",
    "  - Rewrite ELBO为encoder-decoder形式， encoder $q_\\phi(z|x)$， decoder $p_\\theta(x|z)$，所谓VAE即encoder用NN做\n",
    "  - [A torch example](https://github.com/pytorch/examples/blob/master/vae/main.py)； [check Appendix B](https://arxiv.org/pdf/1312.6114.pdf)，recall $\\mu^2, x^2, (x-\\mu)^2$.\n",
    "  \n",
    "GAN，two-player game, minmax V; [GAN-zoo](https://github.com/hindupuravinash/the-gan-zoo)"
   ]
  },
  {
   "cell_type": "code",
   "execution_count": null,
   "metadata": {},
   "outputs": [],
   "source": []
  }
 ],
 "metadata": {
  "kernelspec": {
   "display_name": "Python 3",
   "language": "python",
   "name": "python3"
  },
  "language_info": {
   "codemirror_mode": {
    "name": "ipython",
    "version": 3
   },
   "file_extension": ".py",
   "mimetype": "text/x-python",
   "name": "python",
   "nbconvert_exporter": "python",
   "pygments_lexer": "ipython3",
   "version": "3.7.2"
  }
 },
 "nbformat": 4,
 "nbformat_minor": 2
}
