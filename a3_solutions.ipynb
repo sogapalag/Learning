{
 "cells": [
  {
   "cell_type": "markdown",
   "metadata": {},
   "source": [
    "## [a3](http://web.stanford.edu/class/cs224n/assignments/a3.pdf) solutions\n",
    "\n",
    "(a). i. 累加momentum，类似积攒速度，减少了震荡，会learn更快。ii. 由于初始v常设为0，可见后者learn更快，方差小，即意味着'坡'比较直，可以走快些，方差大，即意味着'坡'比较有起伏，走慢些，减少震荡。\n",
    "\n",
    "(b). $\\gamma = 1/(1-p_{drop})$, by $Eh_d = \\gamma (1-p_{drop}) Eh=Eh$. (ii). 避免features过拟合依赖。\n",
    "\n",
    "----------------------\n",
    "\n",
    "(a). 注意箭头指向的叶子节点要先被push出来。\n",
    "\n",
    "(b). ～2n. 每个词都会被SHIFT进去一次，又都会被push出来一次。"
   ]
  }
 ],
 "metadata": {
  "kernelspec": {
   "display_name": "Python 3",
   "language": "python",
   "name": "python3"
  },
  "language_info": {
   "codemirror_mode": {
    "name": "ipython",
    "version": 3
   },
   "file_extension": ".py",
   "mimetype": "text/x-python",
   "name": "python",
   "nbconvert_exporter": "python",
   "pygments_lexer": "ipython3",
   "version": "3.7.1"
  }
 },
 "nbformat": 4,
 "nbformat_minor": 2
}
