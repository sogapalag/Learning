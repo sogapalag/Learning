{
 "cells": [
  {
   "cell_type": "markdown",
   "metadata": {},
   "source": [
    "线性回归：连续；； 分类：离散（划分）。\n",
    "\n",
    "线性回归有closed form解，和LMS算法。\n",
    "\n",
    "Ligistic Regression，Sigmod函数，用于映射R到$(0,1)$；推广，softmax，多(>2)个类别。\n",
    "\n",
    "Naive Bayes，即训练出$P(x|y)$，由Bayes得到$P(y|x)$去test。简单模型Recall Bayes'thm.\n",
    "\n",
    "k-NN, 即选择最'近'的k个点，哪类比较多就归于谁。\n",
    "\n",
    "k-means，随机set k个中心，所有点依'距离'归类，然后计算新中心迭代至收敛。(cluster)\n",
    "\n",
    "Expectation-Maxi Algorithm.(EM) 即对posterior进行MLE，迭代至收敛。(cluster)\n",
    "\n",
    "SVM：超平面划分，maxmin距离，最近的点称为SVs；（线性划分），理论上存在kernel可以把数据映射到线性划分上，不过对于复杂的非线性，靠Deep Learning。Kernel method 还有计算上卷积比简单映射更快的好处。\n",
    "\n",
    "boost: 常用于数据有限所以resample的一种tech, e.g. Adaboost （ensemble, 本质上有减小variance的效果)\n",
    "\n",
    "Random forest, (ensemble)\n",
    "\n",
    "S/unS 监督/非监督，即训练集是否有label\n",
    "\n",
    "PCA: 降维\n",
    "\n",
    "-----------------\n",
    "\n",
    "#### 一些loss func L\n",
    "\n",
    "LSE(最小方差)，线性回归；logistic loos; hinge loss, SVM; cross-entropy, NN（神经网络）。\n",
    "\n",
    "cross-entropy = KL distance(relative entropy) + H(p)；KLd的内涵即描述了p,q分布的相似程度。\n",
    "\n",
    "----------------\n",
    "\n",
    "#### cost func J\n",
    "\n",
    "一般即sum of L\n",
    "\n",
    "gradient descent, $\\theta \\leftarrow \\theta - \\alpha \\triangledown J(\\theta)$\n",
    "\n",
    "MLE, 极大似然估计，即选择使得概率最大的参数，常用logMLE。\n",
    "\n",
    "Newton-Raphson method，用于多维收敛得到$\\theta$。\n",
    "\n",
    "-------------\n",
    "\n",
    "Generalized Linear Models(GLM), Exp Family, 有一些特性 Sufficient Statistic, posterior依然EF.\n",
    "\n",
    "split; 即把训练集分为(train,test) 80-20划分，对于大数据集90-10（理论TODO）\n",
    "\n",
    "k-Fold, 即对训练集做多次train-test，减少variance，$k=5$ or $10$.\n",
    "\n",
    "AIC,BIC等一些评价模型cross-validate(CV)的量（TODO）"
   ]
  },
  {
   "cell_type": "code",
   "execution_count": null,
   "metadata": {},
   "outputs": [],
   "source": []
  }
 ],
 "metadata": {
  "kernelspec": {
   "display_name": "Python 3",
   "language": "python",
   "name": "python3"
  },
  "language_info": {
   "codemirror_mode": {
    "name": "ipython",
    "version": 3
   },
   "file_extension": ".py",
   "mimetype": "text/x-python",
   "name": "python",
   "nbconvert_exporter": "python",
   "pygments_lexer": "ipython3",
   "version": "3.6.7"
  }
 },
 "nbformat": 4,
 "nbformat_minor": 2
}
